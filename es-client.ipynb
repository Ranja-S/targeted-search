{
 "cells": [
  {
   "cell_type": "code",
   "execution_count": null,
   "metadata": {},
   "outputs": [],
   "source": [
    "#from elasticsearch import Elasticsearch \n",
    "#import requests\n",
    "#import json\n",
    "\n",
    "#es = Elasticsearch([{'host':'localhost','port':9200}])\n",
    "#Elasticsearch(host = \"localhost\", port = 9200)\n",
    "\n",
    "#es.create(index = \"company\", doc_type = \"articles\", id = 1, body = {\"content\": \"The quick brown fox\"})\n",
    "#es.search(index = \"company\", doc_type = \"articles\", body = {\"query\": {\"match\": {\"content\": \"dog\"}}})"
   ]
  },
  {
   "cell_type": "code",
   "execution_count": null,
   "metadata": {},
   "outputs": [],
   "source": [
    "from flask import Flask, render_template, request\n",
    "from elasticsearch import Elasticsearch\n",
    "from waitress import serve\n",
    "import os\n",
    "\n",
    "os.chdir(\"C:\\\\Users\\\\Ranja.Sarkar\\\\Desktop\\\\SearchEngine\\\\\")\n",
    "app = Flask(__name__)\n",
    "es = Elasticsearch(host = \"localhost\", port = 9200)\n"
   ]
  },
  {
   "cell_type": "code",
   "execution_count": null,
   "metadata": {},
   "outputs": [],
   "source": [
    "\"\"\"   \n",
    "@app.route('/search/results', methods = ['GET', 'POST'])\n",
    "def search_request():\n",
    "    search_term = request.form['input']\n",
    "    res = es.search(index = 'reports_index', \n",
    "                    body = {\"query\": {\"multi_match\" : {\"query\": search_term, \n",
    "                    \"fields\": [\"File URL\", \"Summary\", \"Score\"]}}})\n",
    "    return render_template('results.html', res = res)\n",
    "    \n",
    "\"\"\""
   ]
  },
  {
   "cell_type": "code",
   "execution_count": null,
   "metadata": {},
   "outputs": [],
   "source": [
    "@app.route('/')\n",
    "def home():\n",
    "    return render_template('search.html')\n",
    "\n",
    "@app.route('/search/', methods = ['GET', 'POST'])\n",
    "def request_search():\n",
    "    search_term = request.form['input']\n",
    "    res = es.search(index = 'reports_index',\n",
    "                   body = {\"query\": {\"match\": {\"content\": search_term}}, \"highlight\": {\"pre_tags\": [\"<b>\"] , \"post_tags\": [\"</b>\"], \"fields\": {\"content\":{}}}}\n",
    "                   )\n",
    "                                                     \n",
    "    res['ST'] = search_term\n",
    "    for hit in res['hits']['hits']:\n",
    "        hit['good_summary'] =''.join(hit['highlight']['content'][1:])\n",
    "        \n",
    "    return render_template('results.html', res = res)\n",
    "    \n",
    "\n",
    "if __name__ == '__main__':\n",
    "    serve(app, host = \"0.0.0.0\") #default port:8080\n",
    "#    app.run(debug = False) #default port:5000"
   ]
  },
  {
   "cell_type": "code",
   "execution_count": null,
   "metadata": {},
   "outputs": [],
   "source": []
  }
 ],
 "metadata": {
  "kernelspec": {
   "display_name": "Python 3",
   "language": "python",
   "name": "python3"
  },
  "language_info": {
   "codemirror_mode": {
    "name": "ipython",
    "version": 3
   },
   "file_extension": ".py",
   "mimetype": "text/x-python",
   "name": "python",
   "nbconvert_exporter": "python",
   "pygments_lexer": "ipython3",
   "version": "3.7.6"
  },
  "toc": {
   "base_numbering": 1,
   "nav_menu": {},
   "number_sections": true,
   "sideBar": true,
   "skip_h1_title": false,
   "title_cell": "Table of Contents",
   "title_sidebar": "Contents",
   "toc_cell": false,
   "toc_position": {},
   "toc_section_display": true,
   "toc_window_display": false
  },
  "varInspector": {
   "cols": {
    "lenName": 16,
    "lenType": 16,
    "lenVar": 40
   },
   "kernels_config": {
    "python": {
     "delete_cmd_postfix": "",
     "delete_cmd_prefix": "del ",
     "library": "var_list.py",
     "varRefreshCmd": "print(var_dic_list())"
    },
    "r": {
     "delete_cmd_postfix": ") ",
     "delete_cmd_prefix": "rm(",
     "library": "var_list.r",
     "varRefreshCmd": "cat(var_dic_list()) "
    }
   },
   "types_to_exclude": [
    "module",
    "function",
    "builtin_function_or_method",
    "instance",
    "_Feature"
   ],
   "window_display": false
  }
 },
 "nbformat": 4,
 "nbformat_minor": 4
}
