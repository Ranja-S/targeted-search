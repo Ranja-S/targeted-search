{
 "cells": [
  {
   "cell_type": "code",
   "execution_count": 1,
   "metadata": {},
   "outputs": [
    {
     "ename": "COMError",
     "evalue": "(-2146822496, None, ('The file appears to be corrupted.', 'Microsoft Word', 'wdmain11.chm', 25272, None))",
     "output_type": "error",
     "traceback": [
      "\u001b[1;31m---------------------------------------------------------------------------\u001b[0m",
      "\u001b[1;31mCOMError\u001b[0m                                  Traceback (most recent call last)",
      "\u001b[1;32m<ipython-input-1-a1a94c97c305>\u001b[0m in \u001b[0;36m<module>\u001b[1;34m\u001b[0m\n\u001b[0;32m     22\u001b[0m     \u001b[0mword\u001b[0m \u001b[1;33m=\u001b[0m \u001b[0mcomtypes\u001b[0m\u001b[1;33m.\u001b[0m\u001b[0mclient\u001b[0m\u001b[1;33m.\u001b[0m\u001b[0mCreateObject\u001b[0m\u001b[1;33m(\u001b[0m\u001b[1;34m\"Word.Application\"\u001b[0m\u001b[1;33m)\u001b[0m\u001b[1;33m\u001b[0m\u001b[1;33m\u001b[0m\u001b[0m\n\u001b[0;32m     23\u001b[0m \u001b[1;33m\u001b[0m\u001b[0m\n\u001b[1;32m---> 24\u001b[1;33m     \u001b[0mdoc\u001b[0m \u001b[1;33m=\u001b[0m \u001b[0mword\u001b[0m\u001b[1;33m.\u001b[0m\u001b[0mDocuments\u001b[0m\u001b[1;33m.\u001b[0m\u001b[0mOpen\u001b[0m\u001b[1;33m(\u001b[0m\u001b[0minput_file_path\u001b[0m\u001b[1;33m)\u001b[0m\u001b[1;33m\u001b[0m\u001b[1;33m\u001b[0m\u001b[0m\n\u001b[0m\u001b[0;32m     25\u001b[0m     \u001b[0mdoc\u001b[0m\u001b[1;33m.\u001b[0m\u001b[0mVisible\u001b[0m \u001b[1;33m=\u001b[0m \u001b[1;32mTrue\u001b[0m\u001b[1;33m\u001b[0m\u001b[1;33m\u001b[0m\u001b[0m\n\u001b[0;32m     26\u001b[0m \u001b[1;33m\u001b[0m\u001b[0m\n",
      "\u001b[1;31mCOMError\u001b[0m: (-2146822496, None, ('The file appears to be corrupted.', 'Microsoft Word', 'wdmain11.chm', 25272, None))"
     ]
    }
   ],
   "source": [
    "import os\n",
    "#import sys\n",
    "import comtypes.client\n",
    "\n",
    "\n",
    "input_folder_path = \"path1\"\n",
    "output_folder_path = \"path2\"\n",
    "\n",
    "input_folder_path = os.path.abspath(input_folder_path)\n",
    "output_folder_path = os.path.abspath(output_folder_path)\n",
    "\n",
    "input_file_paths = os.listdir(input_folder_path)\n",
    "\n",
    "for input_file_name in input_file_paths:\n",
    "\n",
    "    # Skip if file does not contain a doc or docx file\n",
    "    if not input_file_name.lower().endswith((\".doc\", \".docx\")):\n",
    "        continue\n",
    "    \n",
    "    input_file_path = os.path.join(input_folder_path, input_file_name)\n",
    "        \n",
    "    word = comtypes.client.CreateObject(\"Word.Application\")\n",
    "    \n",
    "    doc = word.Documents.Open(input_file_path)\n",
    "    doc.Visible = True\n",
    "    \n",
    "    # Get base file name\n",
    "    file_name = os.path.splitext(input_file_name)[0]\n",
    "    \n",
    "    output_file_path = os.path.join(output_folder_path, file_name + \".pdf\")\n",
    "    \n",
    "    # Save as PDF (FileFormat = 17)\n",
    "    doc.SaveAs(output_file_path, 17)\n",
    "    \n",
    "doc.Close()\n",
    "word.Quit()"
   ]
  },
  {
   "cell_type": "code",
   "execution_count": null,
   "metadata": {},
   "outputs": [],
   "source": []
  }
 ],
 "metadata": {
  "kernelspec": {
   "display_name": "Python 3",
   "language": "python",
   "name": "python3"
  },
  "language_info": {
   "codemirror_mode": {
    "name": "ipython",
    "version": 3
   },
   "file_extension": ".py",
   "mimetype": "text/x-python",
   "name": "python",
   "nbconvert_exporter": "python",
   "pygments_lexer": "ipython3",
   "version": "3.7.6"
  }
 },
 "nbformat": 4,
 "nbformat_minor": 2
}
