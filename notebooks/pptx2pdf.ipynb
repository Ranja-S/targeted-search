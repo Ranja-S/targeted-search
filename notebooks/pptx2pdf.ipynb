{
 "cells": [
  {
   "cell_type": "code",
   "execution_count": null,
   "metadata": {},
   "outputs": [],
   "source": [
    "import os\n",
    "import comtypes.client\n",
    "\n",
    "input_folder = \"path1\"\n",
    "output_folder = \"path2\"\n",
    "\n",
    "input_folder_path = os.path.abspath(input_folder)\n",
    "output_folder_path = os.path.abspath(output_folder)\n",
    "\n",
    "input_file_paths = os.listdir(input_folder_path)\n",
    "\n",
    "#%% Convert each file\n",
    "for input_file_name in input_file_paths:\n",
    "\n",
    "    # Skip if file does not contain a power point extension\n",
    "    if not input_file_name.lower().endswith((\".ppt\", \".pptx\")):\n",
    "        continue\n",
    "    \n",
    "    input_file_path = os.path.join(input_folder_path, input_file_name)\n",
    "        \n",
    "    powerpoint = comtypes.client.CreateObject(\"Powerpoint.Application\")\n",
    "    \n",
    "    # Set visibility to minimum\n",
    "    powerpoint.Visible = 1\n",
    "    \n",
    "    slides = powerpoint.Presentations.Open(input_file_path)\n",
    "    \n",
    "    # Get base file name\n",
    "    file_name = os.path.splitext(input_file_name)[0]\n",
    "    \n",
    "    output_file_path = os.path.join(output_folder_path, file_name + \".pdf\")\n",
    "    \n",
    "    # Save as PDF (formatType = 32)\n",
    "    slides.SaveAs(output_file_path, 32)\n",
    "    \n",
    "    \n",
    "slides.Close()\n",
    "powerpoint.Quit()"
   ]
  },
  {
   "cell_type": "code",
   "execution_count": null,
   "metadata": {},
   "outputs": [],
   "source": []
  }
 ],
 "metadata": {
  "kernelspec": {
   "display_name": "Python 3",
   "language": "python",
   "name": "python3"
  },
  "toc": {
   "base_numbering": 1,
   "nav_menu": {},
   "number_sections": true,
   "sideBar": true,
   "skip_h1_title": false,
   "title_cell": "Table of Contents",
   "title_sidebar": "Contents",
   "toc_cell": false,
   "toc_position": {},
   "toc_section_display": true,
   "toc_window_display": false
  },
  "varInspector": {
   "cols": {
    "lenName": 16,
    "lenType": 16,
    "lenVar": 40
   },
   "kernels_config": {
    "python": {
     "delete_cmd_postfix": "",
     "delete_cmd_prefix": "del ",
     "library": "var_list.py",
     "varRefreshCmd": "print(var_dic_list())"
    },
    "r": {
     "delete_cmd_postfix": ") ",
     "delete_cmd_prefix": "rm(",
     "library": "var_list.r",
     "varRefreshCmd": "cat(var_dic_list()) "
    }
   },
   "types_to_exclude": [
    "module",
    "function",
    "builtin_function_or_method",
    "instance",
    "_Feature"
   ],
   "window_display": false
  }
 },
 "nbformat": 4,
 "nbformat_minor": 2
}
