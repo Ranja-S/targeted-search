{
 "cells": [
  {
   "cell_type": "code",
   "execution_count": 1,
   "metadata": {},
   "outputs": [],
   "source": [
    "import os\n",
    "import glob\n",
    "import pandas as pd\n",
    "import win32com.client"
   ]
  },
  {
   "cell_type": "code",
   "execution_count": null,
   "metadata": {},
   "outputs": [],
   "source": [
    "\n",
    "folder = \"path1\"\n",
    "out_folder = \"path2\"\n",
    "file_type = 'xlsx'\n",
    "\n",
    "os.chdir(folder)\n",
    "\n",
    "if not os.path.exists(out_folder):\n",
    "    print('Creating output folder...')\n",
    "    os.makedirs(out_folder)\n",
    "    print(out_folder, 'created')\n",
    "else:\n",
    "    print(out_folder, 'already exists \\n')\n",
    "\n",
    "obj = win32com.client.Dispatch(\"Excel.Application\")\n",
    "#zero visibility\n",
    "obj.Visible = False\n",
    "\n",
    "for files in os.listdir(\".\"):\n",
    "    if files.endswith(\".xlsx\"):\n",
    "        print(files)\n",
    "\n",
    "print('\\n\\n')\n",
    "\n",
    "for files in os.listdir(\".\"):\n",
    "\n",
    "    if files.endswith(\".xlsx\"):\n",
    "        out_name = files.replace(file_type, \"pdf\")\n",
    "         \n",
    "        in_file = os.path.abspath(folder + \"\\\\\" + files)\n",
    "         \n",
    "        out_file = os.path.abspath(out_folder + \"\\\\\" + out_name)\n",
    "         \n",
    "        wb = obj.Workbooks.Open(in_file)\n",
    "\n",
    "        data=pd.ExcelFile(in_file)\n",
    "                   \n",
    "        ws_index_list = data.sheet_names\n",
    "#                print(ws_index_list)\n",
    "        wb.Worksheets(ws_index_list).Select()\n",
    "        wb.ActiveSheet.ExportAsFixedFormat(0, out_file)\n",
    "\n",
    "obj.Quit()"
   ]
  },
  {
   "cell_type": "code",
   "execution_count": null,
   "metadata": {},
   "outputs": [],
   "source": []
  }
 ],
 "metadata": {
  "kernelspec": {
   "display_name": "Python 3",
   "language": "python",
   "name": "python3"
  },
  "language_info": {
   "codemirror_mode": {
    "name": "ipython",
    "version": 3
   },
   "file_extension": ".py",
   "mimetype": "text/x-python",
   "name": "python",
   "nbconvert_exporter": "python",
   "pygments_lexer": "ipython3",
   "version": "3.7.6"
  },
  "toc": {
   "base_numbering": 1,
   "nav_menu": {},
   "number_sections": true,
   "sideBar": true,
   "skip_h1_title": false,
   "title_cell": "Table of Contents",
   "title_sidebar": "Contents",
   "toc_cell": false,
   "toc_position": {},
   "toc_section_display": true,
   "toc_window_display": false
  },
  "varInspector": {
   "cols": {
    "lenName": 16,
    "lenType": 16,
    "lenVar": 40
   },
   "kernels_config": {
    "python": {
     "delete_cmd_postfix": "",
     "delete_cmd_prefix": "del ",
     "library": "var_list.py",
     "varRefreshCmd": "print(var_dic_list())"
    },
    "r": {
     "delete_cmd_postfix": ") ",
     "delete_cmd_prefix": "rm(",
     "library": "var_list.r",
     "varRefreshCmd": "cat(var_dic_list()) "
    }
   },
   "types_to_exclude": [
    "module",
    "function",
    "builtin_function_or_method",
    "instance",
    "_Feature"
   ],
   "window_display": false
  }
 },
 "nbformat": 4,
 "nbformat_minor": 2
}
